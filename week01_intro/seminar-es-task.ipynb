{
 "cells": [
  {
   "attachments": {},
   "cell_type": "markdown",
   "metadata": {},
   "source": [
    "## Evolution Strategies\n",
    "\n",
    "![img](https://t4.ftcdn.net/jpg/00/17/46/81/240_F_17468143_wY3hsHyfNYoMdG9BlC56HI4JA7pNu63h.jpg)\n",
    "\n",
    "[The paper about the algorithm](https://arxiv.org/abs/1703.03864)\n",
    "\n",
    "Plan:\n",
    "* Study how to use OpenAI gym\n",
    "* Basic prototype of evolutionary strategies that works in one thread on CartPole\n",
    "* Modify the code to make them work in parallel\n",
    "* Use the algorithm to solve the LunarLander\n",
    "* Analyse the influence of hyperparameters"
   ]
  },
  {
   "cell_type": "code",
   "execution_count": 1,
   "metadata": {},
   "outputs": [],
   "source": [
    "import sys, os\n",
    "if 'google.colab' in sys.modules and not os.path.exists('.setup_complete'):\n",
    "    !wget -q https://raw.githubusercontent.com/yandexdataschool/Practical_RL/master/setup_colab.sh -O- | bash\n",
    "\n",
    "    !touch .setup_complete\n",
    "\n",
    "# This code creates a virtual display to draw game images on.\n",
    "# It will have no effect if your machine has a monitor.\n",
    "if type(os.environ.get(\"DISPLAY\")) is not str or len(os.environ.get(\"DISPLAY\")) == 0:\n",
    "    !bash ../xvfb start\n",
    "    os.environ['DISPLAY'] = ':1'"
   ]
  },
  {
   "cell_type": "code",
   "execution_count": 2,
   "metadata": {},
   "outputs": [],
   "source": [
    "import numpy as np\n",
    "import matplotlib.pyplot as plt\n",
    "\n",
    "import torch\n",
    "import torch.nn as nn\n",
    "import time\n",
    "from copy import deepcopy\n",
    "from joblib import Parallel, delayed\n",
    "from IPython.display import clear_output\n",
    "from IPython import display\n",
    " \n",
    "%matplotlib inline"
   ]
  },
  {
   "attachments": {},
   "cell_type": "markdown",
   "metadata": {},
   "source": [
    "# OpenAI gym environment"
   ]
  },
  {
   "cell_type": "code",
   "execution_count": 5,
   "metadata": {},
   "outputs": [
    {
     "name": "stderr",
     "output_type": "stream",
     "text": [
      "/mnt/sdb1/home/l.morozov/Practical_RL/venv/lib/python3.8/site-packages/gym/envs/registration.py:555: UserWarning: \u001b[33mWARN: The environment CartPole-v0 is out of date. You should consider upgrading to version `v1`.\u001b[0m\n",
      "  logger.warn(\n"
     ]
    },
    {
     "name": "stdout",
     "output_type": "stream",
     "text": [
      "Observation space: Box([-4.8000002e+00 -3.4028235e+38 -4.1887903e-01 -3.4028235e+38], [4.8000002e+00 3.4028235e+38 4.1887903e-01 3.4028235e+38], (4,), float32)\n",
      "Action space: Discrete(2)\n"
     ]
    },
    {
     "data": {
      "image/png": "[encoded data removed]",
      "text/plain": [
       "<Figure size 640x480 with 1 Axes>"
      ]
     },
     "metadata": {},
     "output_type": "display_data"
    }
   ],
   "source": [
    "import gym\n",
    "\n",
    "tmp_env = gym.make(\"CartPole-v0\", render_mode='rgb_array')\n",
    "tmp_env.reset()\n",
    "\n",
    "plt.imshow(tmp_env.render())\n",
    "print(\"Observation space:\", tmp_env.observation_space)\n",
    "print(\"Action space:\", tmp_env.action_space)\n",
    "state_size = tmp_env.observation_space.shape[0]\n",
    "n_actions = tmp_env.action_space.n"
   ]
  },
  {
   "attachments": {},
   "cell_type": "markdown",
   "metadata": {},
   "source": [
    "### How to interact with the environment"
   ]
  },
  {
   "cell_type": "code",
   "execution_count": 7,
   "metadata": {},
   "outputs": [
    {
     "name": "stdout",
     "output_type": "stream",
     "text": [
      "Initial observation: (array([ 0.02965321, -0.00642898, -0.03161647,  0.01613773], dtype=float32), {})\n",
      "At each step it returns:\n",
      "new observation code: [ 0.02952463 -0.20108359 -0.03129372  0.29868   ]\n",
      "reward: 1.0\n",
      "is game over?: False\n"
     ]
    }
   ],
   "source": [
    "print(\"Initial observation:\", tmp_env.reset())\n",
    "\n",
    "new_s, reward, done, _, _ = tmp_env.step(0)\n",
    "print(\"At each step it returns:\")\n",
    "\n",
    "print(\"new observation code:\", new_s)\n",
    "print(\"reward:\", reward)\n",
    "print(\"is game over?:\", done)"
   ]
  },
  {
   "attachments": {},
   "cell_type": "markdown",
   "metadata": {},
   "source": [
    "### Display an episode"
   ]
  },
  {
   "cell_type": "code",
   "execution_count": 29,
   "metadata": {},
   "outputs": [],
   "source": [
    "def display_session(env, agent, t_max=500):\n",
    "    total_reward = 0\n",
    "    plt.figure(figsize=(4, 3))\n",
    "    display.clear_output(wait=True)\n",
    "\n",
    "    s = env.reset()[0]\n",
    "    \n",
    "    for t in range(t_max):\n",
    "        plt.gca().clear()\n",
    "        \n",
    "        a = agent.get_action(torch.tensor(s).float())\n",
    "        new_s, r, done, info, _ = env.step(a)\n",
    "        s = new_s\n",
    "        total_reward += r\n",
    "        # Draw game image on display.\n",
    "        plt.imshow(env.render())\n",
    "\n",
    "        display.display(plt.gcf())\n",
    "        display.clear_output(wait=True)\n",
    "        \n",
    "        if done:\n",
    "            print(\"Done!\")\n",
    "            break\n",
    "            \n",
    "    return total_reward"
   ]
  },
  {
   "attachments": {},
   "cell_type": "markdown",
   "metadata": {},
   "source": [
    "### Random policy"
   ]
  },
  {
   "cell_type": "code",
   "execution_count": 30,
   "metadata": {},
   "outputs": [],
   "source": [
    "import numpy as np\n",
    "class RandomPolicy:\n",
    "    def __init__(self, n_actions) -> None:\n",
    "        self.n_actions = n_actions\n",
    "    \n",
    "    def get_action(self, state):\n",
    "        return np.random.choice(np.arange(self.n_actions))"
   ]
  },
  {
   "cell_type": "code",
   "execution_count": 31,
   "metadata": {},
   "outputs": [
    {
     "name": "stdout",
     "output_type": "stream",
     "text": [
      "Done!\n",
      "Total reward:  15.0\n"
     ]
    },
    {
     "data": {
      "image/png": "[encoded data removed]",
      "text/plain": [
       "<Figure size 400x300 with 1 Axes>"
      ]
     },
     "metadata": {},
     "output_type": "display_data"
    }
   ],
   "source": [
    "total_reward = display_session(tmp_env, RandomPolicy(n_actions), t_max=10000)\n",
    "print('Total reward: ', total_reward)"
   ]
  },
  {
   "attachments": {},
   "cell_type": "markdown",
   "metadata": {},
   "source": [
    "# The challenge of the day"
   ]
  },
  {
   "attachments": {},
   "cell_type": "markdown",
   "metadata": {},
   "source": [
    "![Algorithm](https://i.ibb.co/zFm6BrB/Screenshot-from-2021-09-17-13-38-00.png)\n",
    "\n",
    "Idea: pose a RL problem as a black-box optimization (policy's parameters affect the reward)\n",
    "\n",
    "1. Sample a point from the domain\n",
    "2. update parameters according to each pertrubation's impact on the reward\n",
    "\n",
    "FAQ:\n",
    "\n",
    "1. Why exactly do we **add** something to a parameter?\n",
    "2. Why aren't coefficients $F_i$ normalized to be a convex combination?\n",
    "\n",
    "    They coulb be of a very different scale. It should be transformed to a relative scaled, shouldn't it be?\n",
    "3. How do we know when to stop?\n",
    "4. How does this compare to CE method?"
   ]
  },
  {
   "attachments": {},
   "cell_type": "markdown",
   "metadata": {},
   "source": [
    "### Model evaluation"
   ]
  },
  {
   "cell_type": "code",
   "execution_count": 33,
   "metadata": {},
   "outputs": [],
   "source": [
    "def generate_session(env, agent, t_max=500):\n",
    "    total_reward = 0\n",
    "    s = env.reset()[0]\n",
    "    \n",
    "    for t in range(t_max):\n",
    "        a = agent.get_action(torch.tensor(s).float())\n",
    "        new_s, r, done, info, _ = env.step(a)\n",
    "        total_reward += r\n",
    "        s = new_s\n",
    "        \n",
    "        if done:\n",
    "            break\n",
    "            \n",
    "    return total_reward\n",
    "\n",
    "\n",
    "def score(env, agent, n=10, t_max=500):\n",
    "    \"\"\"We estimate the mean of the total reward of our policy (agent)\n",
    "\n",
    "    Args:\n",
    "        env (_type_): _description_\n",
    "        agent (_type_): _description_\n",
    "        n (int, optional): _description_. Defaults to 10.\n",
    "        t_max (int, optional): _description_. Defaults to 500.\n",
    "\n",
    "    Returns:\n",
    "        _type_: _description_\n",
    "    \"\"\"\n",
    "    sample_rewards = [generate_session(env, agent, t_max=t_max) for _ in range(n)]\n",
    "    return np.mean(sample_rewards)"
   ]
  },
  {
   "attachments": {},
   "cell_type": "markdown",
   "metadata": {},
   "source": [
    "### Modification of the model using a noise "
   ]
  },
  {
   "cell_type": "code",
   "execution_count": 48,
   "metadata": {},
   "outputs": [],
   "source": [
    "from copy import deepcopy\n",
    "def add_noise_to_model(model, noise, copy=False):\n",
    "    if copy:\n",
    "        model = deepcopy(model)\n",
    "    with torch.no_grad():\n",
    "        for param in model.parameters():\n",
    "            param.add_(noise)\n",
    "    return model"
   ]
  },
  {
   "cell_type": "code",
   "execution_count": 57,
   "metadata": {},
   "outputs": [],
   "source": [
    "m = MLPPolicy(2, 5)\n",
    "copied = deepcopy(list(m.parameters()))\n",
    "assert torch.all(copied[0] == list(m.parameters())[0])\n",
    "m = add_noise_to_model(m, torch.tensor(1))\n",
    "assert not torch.all(copied[0] == list(m.parameters())[0])\n",
    "#\n",
    "m = MLPPolicy(2, 5)\n",
    "copied = deepcopy(list(m.parameters()))\n",
    "m2 = add_noise_to_model(m, torch.tensor(1), copy=True)\n",
    "assert torch.all(copied[0] == list(m.parameters())[0])\n",
    "assert not torch.all(copied[0] == list(m2.parameters())[0])"
   ]
  },
  {
   "attachments": {},
   "cell_type": "markdown",
   "metadata": {},
   "source": [
    "### Controller of the evolution\n",
    "\n",
    "#### Task 1: Implement the algorithm"
   ]
  },
  {
   "cell_type": "code",
   "execution_count": 10,
   "metadata": {},
   "outputs": [],
   "source": [
    "class EvolutionManager:\n",
    "    def __init__(self, get_env_function, lr=0.001, std=0.01, n_samples = 64, normalize=True):\n",
    "        super().__init__()\n",
    "        \n",
    "        self.lr = lr\n",
    "        self.std = std\n",
    "        self.normalize = normalize\n",
    "        self.n_samples = n_samples\n",
    "        self.mean_reward_history = []\n",
    "        \n",
    "        self.env = get_env_function()\n",
    "        #\n",
    "        self.current_state = self.env.reset()[0]\n",
    "        \n",
    "    def get_noised_model(self, model):\n",
    "        pass\n",
    "\n",
    "    def optimize(self, model, noises, rewards):\n",
    "        pass\n",
    "    \n",
    "    def step(self, model):\n",
    "        noises: np.array = np.random.normal(size=(self.n_samples))\n",
    "        rewards: list = []\n",
    "        for noise in noises:\n",
    "            noised_model = add_noise_to_model(model, noise=noise, copy=True)\n",
    "            mean_reward = score(env=self.env, agent=noised_model, t_max=1000)\n",
    "            # action = noised_model.get_action(self.current_state)\n",
    "            # new_s, reward, done, info, _ = self.env.step(action)\n",
    "            rewards.append(mean_reward)\n",
    "        self.optimize(model, noises, rewards)\n",
    "        self.update_log(rewards)\n",
    "        \n",
    "    def update_log(self, rewards):\n",
    "        mean_reward = np.mean(rewards)\n",
    "        self.mean_reward_history.append(mean_reward)\n",
    "\n",
    "        clear_output(True)\n",
    "        print(\"last mean reward = %.3f\" % mean_reward)\n",
    "        plt.figure(figsize=[8, 4])\n",
    "        plt.subplot(1, 2, 1)\n",
    "        plt.plot(self.mean_reward_history, label='Mean rewards')\n",
    "        plt.legend()\n",
    "        plt.grid()\n",
    "\n",
    "        plt.subplot(1, 2, 2)\n",
    "        plt.hist(rewards)\n",
    "        plt.grid()\n",
    "\n",
    "        plt.show()\n",
    "    "
   ]
  },
  {
   "attachments": {},
   "cell_type": "markdown",
   "metadata": {},
   "source": [
    "#### Task 2: Implement a neural network-based policy"
   ]
  },
  {
   "attachments": {},
   "cell_type": "markdown",
   "metadata": {},
   "source": [
    "### Neural policy"
   ]
  },
  {
   "cell_type": "code",
   "execution_count": 35,
   "metadata": {},
   "outputs": [],
   "source": [
    "class MLPPolicy(nn.Module):\n",
    "    def __init__(self, n_states, n_actions, hidden_size = 40, *args, **kwargs) -> None:\n",
    "        super().__init__(*args, **kwargs)\n",
    "        self.mlp = nn.Sequential(\n",
    "            nn.Linear(n_states, hidden_size),\n",
    "            nn.ReLU(),\n",
    "            nn.Linear(hidden_size, n_actions)\n",
    "        )\n",
    "    \n",
    "    def get_action(self, state):\n",
    "        # convert to tensors??\n",
    "        logits = self.forward(state)\n",
    "        probs = logits.softmax(dim=-1)\n",
    "        return probs\n",
    "    \n",
    "    def forward(self, X):\n",
    "        return self.mlp(X)"
   ]
  },
  {
   "attachments": {},
   "cell_type": "markdown",
   "metadata": {},
   "source": [
    "### Environment 1: CartPole-v0"
   ]
  },
  {
   "cell_type": "code",
   "execution_count": 19,
   "metadata": {},
   "outputs": [],
   "source": [
    "def get_env_function():\n",
    "    env = gym.make('CartPole-v0').env\n",
    "    return env\n",
    "tmp_env = get_env_function()"
   ]
  },
  {
   "cell_type": "code",
   "execution_count": 20,
   "metadata": {},
   "outputs": [],
   "source": [
    "n_states = tmp_env.observation_space.shape[0]\n",
    "n_actions = tmp_env.action_space.n\n",
    "model: nn.Module = <>"
   ]
  },
  {
   "cell_type": "code",
   "execution_count": 21,
   "metadata": {},
   "outputs": [
    {
     "name": "stdout",
     "output_type": "stream",
     "text": [
      "last mean reward = 493.230\n"
     ]
    },
    {
     "data": {
      "image/png": "[encoded data removed]",
      "text/plain": [
       "<Figure size 576x288 with 2 Axes>"
      ]
     },
     "metadata": {
      "needs_background": "light"
     },
     "output_type": "display_data"
    },
    {
     "name": "stdout",
     "output_type": "stream",
     "text": [
      "3.485602855682373\n"
     ]
    }
   ],
   "source": [
    "algorithm: EvolutionManager = <>\n",
    "\n",
    "for i in range(15):\n",
    "    t = time.time()\n",
    "    algorithm.step(model)\n",
    "    print(time.time() - t)"
   ]
  },
  {
   "cell_type": "code",
   "execution_count": 15,
   "metadata": {},
   "outputs": [
    {
     "data": {
      "text/plain": [
       "500.0"
      ]
     },
     "execution_count": 15,
     "metadata": {},
     "output_type": "execute_result"
    },
    {
     "data": {
      "image/png": "[encoded data removed]",
      "text/plain": [
       "<Figure size 288x216 with 1 Axes>"
      ]
     },
     "metadata": {
      "needs_background": "light"
     },
     "output_type": "display_data"
    }
   ],
   "source": [
    "display_session(tmp_env, model, t_max=500)"
   ]
  },
  {
   "attachments": {},
   "cell_type": "markdown",
   "metadata": {},
   "source": [
    "#### Task 3: Implement and compare the parallelized version of the algorithm"
   ]
  },
  {
   "cell_type": "code",
   "execution_count": 22,
   "metadata": {},
   "outputs": [],
   "source": [
    "model = <>"
   ]
  },
  {
   "cell_type": "code",
   "execution_count": null,
   "metadata": {},
   "outputs": [
    {
     "name": "stdout",
     "output_type": "stream",
     "text": [
      "last mean reward = 353.210\n"
     ]
    },
    {
     "data": {
      "image/png": "[encoded data removed]",
      "text/plain": [
       "<Figure size 576x288 with 2 Axes>"
      ]
     },
     "metadata": {
      "needs_background": "light"
     },
     "output_type": "display_data"
    },
    {
     "name": "stdout",
     "output_type": "stream",
     "text": [
      "26.267060041427612\n"
     ]
    }
   ],
   "source": [
    "algorithm = <>\n",
    "\n",
    "for i in range(15):\n",
    "    t = time.time()\n",
    "    algorithm.step(model)\n",
    "    print(time.time() - t)"
   ]
  },
  {
   "attachments": {},
   "cell_type": "markdown",
   "metadata": {},
   "source": [
    "### Environment 2: LunarLanderContinuous-v2"
   ]
  },
  {
   "cell_type": "code",
   "execution_count": 16,
   "metadata": {},
   "outputs": [
    {
     "name": "stdout",
     "output_type": "stream",
     "text": [
      "last mean reward = 155.350\n"
     ]
    },
    {
     "data": {
      "image/png": "[encoded data removed]",
      "text/plain": [
       "<Figure size 576x288 with 2 Axes>"
      ]
     },
     "metadata": {
      "needs_background": "light"
     },
     "output_type": "display_data"
    }
   ],
   "source": [
    "def get_env_function():\n",
    "    env = gym.make('LunarLanderContinuous-v2').env\n",
    "    return env\n",
    "tmp_env = get_env_function()\n",
    "n_states = tmp_env.observation_space.shape[0]\n",
    "n_actions = tmp_env.action_space.shape[0]\n",
    "model = <>\n",
    "algorithm = <>\n",
    "for i in range(1000):\n",
    "    algorithm.step(model)"
   ]
  },
  {
   "cell_type": "code",
   "execution_count": 17,
   "metadata": {},
   "outputs": [
    {
     "data": {
      "text/plain": [
       "297.1928817226966"
      ]
     },
     "execution_count": 17,
     "metadata": {},
     "output_type": "execute_result"
    },
    {
     "data": {
      "image/png": "[encoded data removed]",
      "text/plain": [
       "<Figure size 288x216 with 1 Axes>"
      ]
     },
     "metadata": {
      "needs_background": "light"
     },
     "output_type": "display_data"
    }
   ],
   "source": [
    "display_session(tmp_env, model, t_max=500)"
   ]
  },
  {
   "attachments": {},
   "cell_type": "markdown",
   "metadata": {},
   "source": [
    "### Task 3: Hyperparameter's analysis"
   ]
  },
  {
   "attachments": {},
   "cell_type": "markdown",
   "metadata": {},
   "source": [
    "Now we are going to do some experimental analysis of the algorithm.\n",
    "\n",
    "Plan:\n",
    "- to learn something about the *std* parameter\n",
    "- to learn something about the *learning rate* parameter\n",
    "- to learn something about the *n_samples* parameter"
   ]
  },
  {
   "cell_type": "code",
   "execution_count": null,
   "metadata": {},
   "outputs": [],
   "source": []
  }
 ],
 "metadata": {
  "kernelspec": {
   "display_name": "Python 3",
   "language": "python",
   "name": "python3"
  },
  "language_info": {
   "codemirror_mode": {
    "name": "ipython",
    "version": 3
   },
   "file_extension": ".py",
   "mimetype": "text/x-python",
   "name": "python",
   "nbconvert_exporter": "python",
   "pygments_lexer": "ipython3",
   "version": "3.8.10"
  }
 },
 "nbformat": 4,
 "nbformat_minor": 2
}
