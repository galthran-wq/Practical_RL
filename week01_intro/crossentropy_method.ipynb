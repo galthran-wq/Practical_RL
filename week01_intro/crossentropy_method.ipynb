{
<<<<<<< HEAD
 "cells": [
  {
   "attachments": {},
   "cell_type": "markdown",
   "metadata": {},
   "source": [
    "# Crossentropy method\n",
    "\n",
    "This notebook will teach you to solve reinforcement learning problems with crossentropy method. We'll follow-up by scaling everything up and using neural network policy."
   ]
  },
  {
   "cell_type": "code",
   "execution_count": null,
   "metadata": {},
   "outputs": [],
   "source": [
    "import sys, os\n",
    "if 'google.colab' in sys.modules and not os.path.exists('.setup_complete'):\n",
    "    !wget -q https://raw.githubusercontent.com/yandexdataschool/Practical_RL/master/setup_colab.sh -O- | bash\n",
    "    !touch .setup_complete\n",
    "\n",
    "# This code creates a virtual display to draw game images on.\n",
    "# It will have no effect if your machine has a monitor.\n",
    "if type(os.environ.get(\"DISPLAY\")) is not str or len(os.environ.get(\"DISPLAY\")) == 0:\n",
    "    !bash ../xvfb start\n",
    "    os.environ['DISPLAY'] = ':1'"
   ]
  },
  {
   "cell_type": "code",
   "execution_count": 2,
   "metadata": {},
   "outputs": [
    {
     "data": {
      "text/plain": [
       "array([[[110, 109, 106],\n",
       "        [110, 109, 106],\n",
       "        [124, 122, 122],\n",
       "        ...,\n",
       "        [108, 111, 109],\n",
       "        [108, 111, 109],\n",
       "        [118, 119, 119]],\n",
       "\n",
       "       [[110, 109, 106],\n",
       "        [110, 109, 106],\n",
       "        [124, 122, 122],\n",
       "        ...,\n",
       "        [108, 111, 109],\n",
       "        [108, 111, 109],\n",
       "        [118, 119, 119]],\n",
       "\n",
       "       [[114, 116, 115],\n",
       "        [114, 116, 115],\n",
       "        [126, 127, 126],\n",
       "        ...,\n",
       "        [112, 113, 111],\n",
       "        [112, 113, 111],\n",
       "        [118, 117, 115]],\n",
       "\n",
       "       ...,\n",
       "\n",
       "       [[116, 115, 116],\n",
       "        [116, 115, 116],\n",
       "        [106, 107, 108],\n",
       "        ...,\n",
       "        [113, 115, 114],\n",
       "        [113, 115, 114],\n",
       "        [117, 114, 117]],\n",
       "\n",
       "       [[116, 115, 116],\n",
       "        [116, 115, 116],\n",
       "        [106, 107, 108],\n",
       "        ...,\n",
       "        [113, 115, 114],\n",
       "        [113, 115, 114],\n",
       "        [117, 114, 117]],\n",
       "\n",
       "       [[115, 112, 112],\n",
       "        [115, 112, 112],\n",
       "        [119, 119, 117],\n",
       "        ...,\n",
       "        [123, 119, 118],\n",
       "        [123, 119, 118],\n",
       "        [114, 114, 117]]], dtype=uint8)"
      ]
     },
     "execution_count": 2,
     "metadata": {},
     "output_type": "execute_result"
    }
   ],
   "source": [
    "import gym\n",
    "import numpy as np\n",
    "\n",
    "env = gym.make(\"Taxi-v3\", render_mode=\"rgb_array\")\n",
    "env.reset()\n",
    "env.render()"
   ]
  },
  {
   "cell_type": "code",
   "execution_count": 3,
   "metadata": {},
   "outputs": [
    {
     "name": "stdout",
     "output_type": "stream",
     "text": [
      "n_states=500, n_actions=6\n"
     ]
    }
   ],
   "source": [
    "n_states = env.observation_space.n\n",
    "n_actions = env.action_space.n\n",
    "\n",
    "print(\"n_states=%i, n_actions=%i\" % (n_states, n_actions))"
   ]
  },
  {
   "attachments": {},
   "cell_type": "markdown",
   "metadata": {},
   "source": [
    "# Create stochastic policy\n",
    "\n",
    "This time our policy should be a probability distribution.\n",
    "\n",
    "```policy[s,a] = P(take action a | in state s)```\n",
    "\n",
    "Since we still use integer state and action representations, you can use a 2-dimensional array to represent the policy.\n",
    "\n",
    "Please initialize the policy __uniformly__, that is, probabililities of all actions should be equal."
   ]
  },
  {
   "cell_type": "code",
   "execution_count": 8,
   "metadata": {},
   "outputs": [],
   "source": [
    "def initialize_policy(n_states, n_actions):\n",
    "    policy = np.full(fill_value=1/n_actions, shape=(n_states, n_actions))\n",
    "    return policy\n",
    "\n",
    "policy = initialize_policy(n_states, n_actions)"
   ]
  },
  {
   "cell_type": "code",
   "execution_count": 10,
   "metadata": {},
   "outputs": [],
   "source": [
    "assert type(policy) in (np.ndarray, np.matrix)\n",
    "assert np.allclose(policy, 1./n_actions)\n",
    "assert np.allclose(np.sum(policy, axis=1), 1)"
   ]
  },
  {
   "attachments": {},
   "cell_type": "markdown",
   "metadata": {},
   "source": [
    "# Play the game\n",
    "\n",
    "Just like before, but we also record all states and actions we took."
   ]
  },
  {
   "cell_type": "code",
   "execution_count": 18,
   "metadata": {},
   "outputs": [],
   "source": [
    "def generate_session(env, policy, t_max=10**4):\n",
    "    \"\"\"\n",
    "    Play game until end or for t_max ticks.\n",
    "    :param policy: an array of shape [n_states,n_actions] with action probabilities\n",
    "    :returns: list of states, list of actions and sum of rewards\n",
    "    \"\"\"\n",
    "    states, actions = [], []\n",
    "    total_reward = 0.\n",
    "\n",
    "    n_states, n_actions = policy.shape\n",
    "    # the state we are in (in np.arange(n_actions))\n",
    "    s: int = env.reset()[0]\n",
    "\n",
    "    for t in range(t_max):\n",
    "        # Hint: you can use np.random.choice for sampling action\n",
    "        # https://numpy.org/doc/stable/reference/random/generated/numpy.random.choice.html\n",
    "        state_t = s\n",
    "        a = np.random.choice(np.arange(n_actions), p=policy[state_t, :])\n",
    "\n",
    "        (new_s, r, done, info, _) = env.step(a)\n",
    "\n",
    "        # Record information we just got from the environment.\n",
    "        states.append(s)\n",
    "        actions.append(a)\n",
    "        total_reward += r\n",
    "\n",
    "        s = new_s\n",
    "        if done:\n",
    "            break\n",
    "\n",
    "    return states, actions, total_reward"
   ]
  },
  {
   "cell_type": "code",
   "execution_count": 19,
   "metadata": {},
   "outputs": [],
   "source": [
    "s, a, r = generate_session(env, policy)\n",
    "assert type(s) == type(a) == list\n",
    "assert len(s) == len(a)\n",
    "assert type(r) in [float, np.float64]"
   ]
  },
  {
   "cell_type": "code",
   "execution_count": 20,
   "metadata": {},
   "outputs": [
    {
     "data": {
      "text/plain": [
       "<matplotlib.legend.Legend at 0x7f87b4f06b50>"
      ]
     },
     "execution_count": 20,
     "metadata": {},
     "output_type": "execute_result"
    },
    {
     "data": {
      "image/png": "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",
      "text/plain": [
       "<Figure size 640x480 with 1 Axes>"
      ]
     },
     "metadata": {},
     "output_type": "display_data"
    }
   ],
   "source": [
    "# let's see the initial reward distribution\n",
    "import matplotlib.pyplot as plt\n",
    "%matplotlib inline\n",
    "\n",
    "sample_rewards = [generate_session(env, policy, t_max=1000)[-1] for _ in range(200)]\n",
    "\n",
    "plt.hist(sample_rewards, bins=20)\n",
    "plt.vlines([np.percentile(sample_rewards, 50)], [0], [100], label=\"50'th percentile\", color='green')\n",
    "plt.vlines([np.percentile(sample_rewards, 90)], [0], [100], label=\"90'th percentile\", color='red')\n",
    "plt.legend()"
   ]
  },
  {
   "attachments": {},
   "cell_type": "markdown",
   "metadata": {},
   "source": [
    "### Crossentropy method steps"
   ]
  },
  {
   "cell_type": "code",
   "execution_count": 32,
   "metadata": {},
   "outputs": [],
   "source": [
    "def select_elites(states_batch, actions_batch, rewards_batch, percentile):\n",
    "    \"\"\"\n",
    "    Select states and actions from games that have rewards >= percentile\n",
    "    :param states_batch: list of lists of states, states_batch[session_i][t]\n",
    "    :param actions_batch: list of lists of actions, actions_batch[session_i][t]\n",
    "    :param rewards_batch: list of rewards, rewards_batch[session_i]\n",
    "\n",
    "    :returns: elite_states,elite_actions, both 1D lists of states and respective actions from elite sessions\n",
    "\n",
    "    Please return elite states and actions in their original order \n",
    "    [i.e. sorted by session number and timestep within session]\n",
    "\n",
    "    If you are confused, see examples below. Please don't assume that states are integers\n",
    "    (they will become different later).\n",
    "    \"\"\"\n",
    "\n",
    "    reward_threshold = np.percentile(rewards_batch, q=percentile)\n",
    "\n",
    "    # states and actions only from elites, that is:\n",
    "    i_to_keep = [i for i, reward in enumerate(rewards_batch) if reward >= reward_threshold]\n",
    "    elite_states = [ states_batch[i] for i in range(len(states_batch)) if i in i_to_keep ]\n",
    "    elite_actions = [ actions_batch[i] for i in range(len(actions_batch)) if i in i_to_keep ]\n",
    "\n",
    "    # flatten (for some reason?)\n",
    "    # Because we do not actually care about the boundaries. For MLe we only care about the counts.\n",
    "    elite_states = [i for sublist in elite_states for i in sublist ]\n",
    "    elite_actions = [i for sublist in elite_actions for i in sublist ]\n",
    "\n",
    "    return elite_states, elite_actions"
   ]
  },
  {
   "cell_type": "code",
   "execution_count": 33,
   "metadata": {},
   "outputs": [
    {
     "name": "stdout",
     "output_type": "stream",
     "text": [
      "Ok!\n"
     ]
    }
   ],
   "source": [
    "states_batch = [\n",
    "    [1, 2, 3],     # game1\n",
    "    [4, 2, 0, 2],  # game2\n",
    "    [3, 1],        # game3\n",
    "]\n",
    "\n",
    "actions_batch = [\n",
    "    [0, 2, 4],     # game1\n",
    "    [3, 2, 0, 1],  # game2\n",
    "    [3, 3],        # game3\n",
    "]\n",
    "rewards_batch = [\n",
    "    3,  # game1\n",
    "    4,  # game2\n",
    "    5,  # game3\n",
    "]\n",
    "\n",
    "test_result_0 = select_elites(states_batch, actions_batch, rewards_batch, percentile=0)\n",
    "test_result_30 = select_elites(states_batch, actions_batch, rewards_batch, percentile=30)\n",
    "test_result_90 = select_elites(states_batch, actions_batch, rewards_batch, percentile=90)\n",
    "test_result_100 = select_elites(states_batch, actions_batch, rewards_batch, percentile=100)\n",
    "\n",
    "assert np.all(test_result_0[0] == [1, 2, 3, 4, 2, 0, 2, 3, 1])  \\\n",
    "    and np.all(test_result_0[1] == [0, 2, 4, 3, 2, 0, 1, 3, 3]), \\\n",
    "    \"For percentile 0 you should return all states and actions in chronological order\"\n",
    "assert np.all(test_result_30[0] == [4, 2, 0, 2, 3, 1]) and \\\n",
    "    np.all(test_result_30[1] == [3, 2, 0, 1, 3, 3]), \\\n",
    "    \"For percentile 30 you should only select states/actions from two first\"\n",
    "assert np.all(test_result_90[0] == [3, 1]) and \\\n",
    "    np.all(test_result_90[1] == [3, 3]), \\\n",
    "    \"For percentile 90 you should only select states/actions from one game\"\n",
    "assert np.all(test_result_100[0] == [3, 1]) and\\\n",
    "    np.all(test_result_100[1] == [3, 3]), \\\n",
    "    \"Please make sure you use >=, not >. Also double-check how you compute percentile.\"\n",
    "\n",
    "print(\"Ok!\")"
   ]
  },
  {
   "cell_type": "code",
   "execution_count": 42,
   "metadata": {},
   "outputs": [],
   "source": [
    "def get_new_policy(elite_states, elite_actions):\n",
    "    \"\"\"\n",
    "    Given a list of elite states/actions from select_elites,\n",
    "    return a new policy where each action probability is proportional to\n",
    "\n",
    "        policy[s_i,a_i] ~ #[occurrences of s_i and a_i in elite states/actions]\n",
    "\n",
    "    Don't forget to normalize the policy to get valid probabilities and handle the 0/0 case.\n",
    "    For states that you never visited, use a uniform distribution (1/n_actions for all states).\n",
    "\n",
    "    :param elite_states: 1D list of states from elite sessions\n",
    "    :param elite_actions: 1D list of actions from elite sessions\n",
    "\n",
    "    \"\"\"\n",
    "\n",
    "    # This step is identical to estimating parameters in bigram language model.\n",
    "    # It is the very same 2-order markov chain, so no surprise.\n",
    "    # It can be shown that those estimates are actually MLE. (see Murphy)\n",
    "\n",
    "    new_policy = np.zeros([n_states, n_actions])\n",
    "    number_of_actions_for = [0] * n_states\n",
    "    for state, action in zip(elite_states, elite_actions):\n",
    "        new_policy[state, action] += 1\n",
    "        number_of_actions_for[state] += 1\n",
    "\n",
    "    # normalize each row. They generally have different number of observations for each state.,\n",
    "    # so we need separate constant for each state\n",
    "    for state in range(n_states):\n",
    "        if number_of_actions_for[state] > 0:\n",
    "            new_policy[state, :] = new_policy[state, :] / number_of_actions_for[state]\n",
    "        else:\n",
    "            new_policy[state, :] = 1 / n_actions\n",
    "\n",
    "    return new_policy"
   ]
  },
  {
   "cell_type": "code",
   "execution_count": 43,
   "metadata": {},
   "outputs": [
    {
     "name": "stdout",
     "output_type": "stream",
     "text": [
      "Ok!\n"
     ]
    }
   ],
   "source": [
    "elite_states = [1, 2, 3, 4, 2, 0, 2, 3, 1]\n",
    "elite_actions = [0, 2, 4, 3, 2, 0, 1, 3, 3]\n",
    "\n",
    "new_policy = get_new_policy(elite_states, elite_actions)\n",
    "\n",
    "assert np.isfinite(new_policy).all(), \\\n",
    "    \"Your new policy contains NaNs or +-inf. Make sure you don't divide by zero.\"\n",
    "assert np.all(new_policy >= 0), \\\n",
    "    \"Your new policy can't have negative action probabilities\"\n",
    "assert np.allclose(new_policy.sum(axis=-1), 1), \\\n",
    "    \"Your new policy should be a valid probability distribution over actions\"\n",
    "\n",
    "reference_answer = np.array([\n",
    "    [1.,  0.,  0.,  0.,  0.],\n",
    "    [0.5,  0.,  0.,  0.5,  0.],\n",
    "    [0.,  0.33333333,  0.66666667,  0.,  0.],\n",
    "    [0.,  0.,  0.,  0.5,  0.5]])\n",
    "assert np.allclose(new_policy[:4, :5], reference_answer)\n",
    "\n",
    "print(\"Ok!\")"
   ]
  },
  {
   "attachments": {},
   "cell_type": "markdown",
   "metadata": {},
   "source": [
    "# Training loop\n",
    "Generate sessions, select N best and fit to those."
   ]
  },
  {
   "cell_type": "code",
   "execution_count": 44,
   "metadata": {},
   "outputs": [],
   "source": [
    "from IPython.display import clear_output\n",
    "\n",
    "def show_progress(rewards_batch, log, percentile, reward_range=[-990, +10]):\n",
    "    \"\"\"\n",
    "    A convenience function that displays training progress. \n",
    "    No cool math here, just charts.\n",
    "    \"\"\"\n",
    "\n",
    "    mean_reward = np.mean(rewards_batch)\n",
    "    threshold = np.percentile(rewards_batch, percentile)\n",
    "    log.append([mean_reward, threshold])\n",
    "    \n",
    "    plt.figure(figsize=[8, 4])\n",
    "    plt.subplot(1, 2, 1)\n",
    "    plt.plot(list(zip(*log))[0], label='Mean rewards')\n",
    "    plt.plot(list(zip(*log))[1], label='Reward thresholds')\n",
    "    plt.legend()\n",
    "    plt.grid()\n",
    "\n",
    "    plt.subplot(1, 2, 2)\n",
    "    plt.hist(rewards_batch, range=reward_range)\n",
    "    plt.vlines([np.percentile(rewards_batch, percentile)],\n",
    "               [0], [100], label=\"percentile\", color='red')\n",
    "    plt.legend()\n",
    "    plt.grid()\n",
    "    clear_output(True)\n",
    "    print(\"mean reward = %.3f, threshold=%.3f\" % (mean_reward, threshold))\n",
    "    plt.show()"
   ]
  },
  {
   "cell_type": "code",
   "execution_count": 45,
   "metadata": {},
   "outputs": [],
   "source": [
    "# reset policy just in case\n",
    "policy = initialize_policy(n_states, n_actions)"
   ]
  },
  {
   "cell_type": "code",
   "execution_count": 46,
   "metadata": {},
   "outputs": [
    {
     "name": "stdout",
     "output_type": "stream",
     "text": [
      "mean reward = -242.000, threshold=6.000\n"
     ]
    },
    {
     "data": {
      "image/png": "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",
      "text/plain": [
       "<Figure size 800x400 with 2 Axes>"
      ]
     },
     "metadata": {},
     "output_type": "display_data"
    }
   ],
   "source": [
    "def train(\n",
    "    n_sessions = 250,     # sample this many sessions\n",
    "    percentile = 50,      # discard this percentage of sessions with lowest rewards\n",
    "    learning_rate = 0.5,  # how quickly the policy is updated, on a scale from 0 to 1\n",
    "):\n",
    "\n",
    "    log = []\n",
    "\n",
    "    for i in range(100):\n",
    "        sessions = [generate_session(env, policy, t_max=1000) for _ in range(n_sessions)]\n",
    "\n",
    "        states_batch, actions_batch, rewards_batch = zip(*sessions)\n",
    "\n",
    "        elite_states, elite_actions = select_elites(states_batch, actions_batch, rewards_batch, percentile=percentile)\n",
    "\n",
    "        new_policy = get_new_policy(elite_states, elite_actions)\n",
    "\n",
    "        policy = learning_rate * new_policy + (1 - learning_rate) * policy\n",
    "\n",
    "        # display results on chart\n",
    "        show_progress(rewards_batch, log, percentile)\n",
    "    return log"
   ]
  },
  {
   "attachments": {},
   "cell_type": "markdown",
   "metadata": {},
   "source": [
    "### Reflecting on results\n",
    "\n",
    "You may have noticed that the taxi problem quickly converges from less than -1000 to a near-optimal score and then descends back into -50/-100. This is in part because the environment has some innate randomness. Namely, the starting points of passenger/driver change from episode to episode.\n",
    "\n",
    "**In case CEM failed to learn how to win from one distinct starting point, it will simply discard it because no sessions from that starting point will make it into the \"elites\".**\n",
    "\n",
    "To mitigate that problem, you can either reduce the threshold for elite sessions (duct tape way) or change the way you evaluate strategy (theoretically correct way). For each starting state, you can sample an action randomly, and then evaluate this action by running _several_ games starting from it and averaging the total reward. Choosing elite sessions with this kind of sampling (where each session's reward is counted as the average of the rewards of all sessions with the same starting state and action) should improve the performance of your policy."
   ]
  },
  {
   "attachments": {},
   "cell_type": "markdown",
   "metadata": {},
   "source": [
    "\n",
    "### You're not done yet!\n",
    "\n",
    "Go to [`./deep_crossentropy_method.ipynb`](./deep_crossentropy_method.ipynb) for a more serious task"
   ]
  }
 ],
 "metadata": {
  "kernelspec": {
   "display_name": "venv",
   "language": "python",
   "name": "python3"
  },
  "language_info": {
   "codemirror_mode": {
    "name": "ipython",
    "version": 3
   },
   "file_extension": ".py",
   "mimetype": "text/x-python",
   "name": "python",
   "nbconvert_exporter": "python",
   "pygments_lexer": "ipython3",
   "version": "3.8.10"
  }
 },
 "nbformat": 4,
 "nbformat_minor": 1
=======
  "cells": [
    {
      "cell_type": "markdown",
      "metadata": {
        "id": "7XGyc-FCG35I"
      },
      "source": [
        "# Crossentropy method\n",
        "\n",
        "This notebook will teach you to solve reinforcement learning problems with crossentropy method. We'll follow-up by scaling everything up and using neural network policy."
      ]
    },
    {
      "cell_type": "code",
      "execution_count": null,
      "metadata": {
        "id": "2jwz8moTG35K"
      },
      "outputs": [],
      "source": [
        "import sys, os\n",
        "if 'google.colab' in sys.modules and not os.path.exists('.setup_complete'):\n",
        "    !wget -q https://raw.githubusercontent.com/yandexdataschool/Practical_RL/master/setup_colab.sh -O- | bash\n",
        "    !touch .setup_complete\n",
        "\n",
        "# This code creates a virtual display to draw game images on.\n",
        "# It will have no effect if your machine has a monitor.\n",
        "if type(os.environ.get(\"DISPLAY\")) is not str or len(os.environ.get(\"DISPLAY\")) == 0:\n",
        "    !bash ../xvfb start\n",
        "    os.environ['DISPLAY'] = ':1'"
      ]
    },
    {
      "cell_type": "code",
      "execution_count": null,
      "metadata": {
        "id": "oe7EKolvLC67"
      },
      "outputs": [],
      "source": [
        "!pip install gymnasium[toy_text]"
      ]
    },
    {
      "cell_type": "code",
      "execution_count": null,
      "metadata": {
        "id": "ltjzx5AFG35K"
      },
      "outputs": [],
      "source": [
        "import gymnasium as gym\n",
        "import numpy as np\n",
        "import matplotlib.pyplot as plt\n",
        "\n",
        "env = gym.make(\"Taxi-v3\", render_mode=\"rgb_array\")\n",
        "print(env.reset(seed=0))\n",
        "plt.imshow(env.render())\n"
      ]
    },
    {
      "cell_type": "code",
      "execution_count": null,
      "metadata": {
        "colab": {
          "base_uri": "https://localhost:8080/"
        },
        "id": "O6waF01eG35L",
        "outputId": "8ca46444-7a7f-4091-c50c-0cab96a995e9"
      },
      "outputs": [],
      "source": [
        "n_states = env.observation_space.n\n",
        "n_actions = env.action_space.n\n",
        "\n",
        "print(f\"n_states={n_states}, n_actions={n_actions}\")\n"
      ]
    },
    {
      "cell_type": "markdown",
      "metadata": {
        "id": "IHXnU2QWG35L"
      },
      "source": [
        "# Create stochastic policy\n",
        "\n",
        "This time our policy should be a probability distribution.\n",
        "\n",
        "```policy[s,a] = P(take action a | in state s)```\n",
        "\n",
        "Since we still use integer state and action representations, you can use a 2-dimensional array to represent the policy.\n",
        "\n",
        "Please initialize the policy __uniformly__, that is, probabililities of all actions should be equal."
      ]
    },
    {
      "cell_type": "code",
      "execution_count": 11,
      "metadata": {
        "id": "9qL5eW-rG35L"
      },
      "outputs": [],
      "source": [
        "def initialize_policy(n_states, n_actions):\n",
        "    <YOUR CODE: create an array to store action probabilities>\n",
        "\n",
        "    return policy\n",
        "\n",
        "\n",
        "policy = initialize_policy(n_states, n_actions)\n"
      ]
    },
    {
      "cell_type": "code",
      "execution_count": 12,
      "metadata": {
        "id": "G1SeRRGgG35L"
      },
      "outputs": [],
      "source": [
        "assert type(policy) in (np.ndarray, np.matrix)\n",
        "assert np.allclose(policy, 1.0 / n_actions)\n",
        "assert np.allclose(np.sum(policy, axis=1), 1)\n"
      ]
    },
    {
      "cell_type": "markdown",
      "metadata": {
        "id": "9zR1fCUrG35L"
      },
      "source": [
        "# Play the game\n",
        "\n",
        "Just like before, but we also record all states and actions we took."
      ]
    },
    {
      "cell_type": "code",
      "execution_count": 15,
      "metadata": {
        "id": "d4v8WmvlG35L"
      },
      "outputs": [],
      "source": [
        "def generate_session(env, policy, t_max=10**4):\n",
        "    \"\"\"\n",
        "    Play game until end or for t_max ticks.\n",
        "    :param policy: an array of shape [n_states,n_actions] with action probabilities\n",
        "    :returns: list of states, list of actions and sum of rewards\n",
        "    \"\"\"\n",
        "    states, actions = [], []\n",
        "    total_reward = 0.0\n",
        "\n",
        "    s, _ = env.reset()\n",
        "\n",
        "    for t in range(t_max):\n",
        "        # Hint: you can use np.random.choice for sampling action\n",
        "        # https://numpy.org/doc/stable/reference/random/generated/numpy.random.choice.html\n",
        "\n",
        "        a = <YOUR CODE: sample action from policy>\n",
        "\n",
        "        new_s, r, terminated, truncated, _ = env.step(a)\n",
        "\n",
        "        # Record information we just got from the environment.\n",
        "        states.append(s)\n",
        "        actions.append(a)\n",
        "        total_reward += r\n",
        "\n",
        "        s = new_s\n",
        "        if terminated or truncated:\n",
        "            break\n",
        "\n",
        "    return states, actions, total_reward\n"
      ]
    },
    {
      "cell_type": "code",
      "execution_count": 16,
      "metadata": {
        "id": "a1EUUZ29G35M"
      },
      "outputs": [],
      "source": [
        "s, a, r = generate_session(env, policy)\n",
        "assert type(s) == type(a) == list\n",
        "assert len(s) == len(a)\n",
        "assert type(r) in [float, np.float64]\n"
      ]
    },
    {
      "cell_type": "code",
      "execution_count": null,
      "metadata": {
        "id": "_5YEDTKnG35M"
      },
      "outputs": [],
      "source": [
        "# let's see the initial reward distribution\n",
        "import matplotlib.pyplot as plt\n",
        "%matplotlib inline\n",
        "\n",
        "sample_rewards = [generate_session(env, policy, t_max=1000)[-1] for _ in range(200)]\n",
        "\n",
        "plt.hist(sample_rewards, bins=20)\n",
        "plt.vlines([np.percentile(sample_rewards, 50)], [0], [100], label=\"50'th percentile\", color='green')\n",
        "plt.vlines([np.percentile(sample_rewards, 90)], [0], [100], label=\"90'th percentile\", color='red')\n",
        "plt.legend()"
      ]
    },
    {
      "cell_type": "markdown",
      "metadata": {
        "id": "EeWtL3F5G35M"
      },
      "source": [
        "### Crossentropy method steps"
      ]
    },
    {
      "cell_type": "code",
      "execution_count": null,
      "metadata": {
        "id": "00WWzr0KG35N"
      },
      "outputs": [],
      "source": [
        "def select_elites(states_batch, actions_batch, rewards_batch, percentile):\n",
        "    \"\"\"\n",
        "    Select states and actions from games that have rewards >= percentile\n",
        "    :param states_batch: list of lists of states, states_batch[session_i][t]\n",
        "    :param actions_batch: list of lists of actions, actions_batch[session_i][t]\n",
        "    :param rewards_batch: list of rewards, rewards_batch[session_i]\n",
        "\n",
        "    :returns: elite_states,elite_actions, both 1D lists of states and respective actions from elite sessions\n",
        "\n",
        "    Please return elite states and actions in their original order\n",
        "    [i.e. sorted by session number and timestep within session]\n",
        "\n",
        "    If you are confused, see examples below. Please don't assume that states are integers\n",
        "    (they will become different later).\n",
        "    \"\"\"\n",
        "\n",
        "    reward_threshold = <YOUR CODE: compute minimum reward for elite sessions. Hint: use np.percentile()>\n",
        "\n",
        "    elite_states = <YOUR CODE>\n",
        "    elite_actions = <YOUR CODE>\n",
        "\n",
        "    return elite_states, elite_actions\n"
      ]
    },
    {
      "cell_type": "code",
      "execution_count": null,
      "metadata": {
        "id": "teOLBGojG35N"
      },
      "outputs": [],
      "source": [
        "states_batch = [\n",
        "    [1, 2, 3],     # game1\n",
        "    [4, 2, 0, 2],  # game2\n",
        "    [3, 1],        # game3\n",
        "]\n",
        "\n",
        "actions_batch = [\n",
        "    [0, 2, 4],     # game1\n",
        "    [3, 2, 0, 1],  # game2\n",
        "    [3, 3],        # game3\n",
        "]\n",
        "rewards_batch = [\n",
        "    3,  # game1\n",
        "    4,  # game2\n",
        "    5,  # game3\n",
        "]\n",
        "\n",
        "test_result_0 = select_elites(states_batch, actions_batch, rewards_batch, percentile=0)\n",
        "test_result_30 = select_elites(\n",
        "    states_batch, actions_batch, rewards_batch, percentile=30\n",
        ")\n",
        "test_result_90 = select_elites(\n",
        "    states_batch, actions_batch, rewards_batch, percentile=90\n",
        ")\n",
        "test_result_100 = select_elites(\n",
        "    states_batch, actions_batch, rewards_batch, percentile=100\n",
        ")\n",
        "\n",
        "assert np.all(test_result_0[0] == [1, 2, 3, 4, 2, 0, 2, 3, 1]) and np.all(\n",
        "    test_result_0[1] == [0, 2, 4, 3, 2, 0, 1, 3, 3]\n",
        "), \"For percentile 0 you should return all states and actions in chronological order\"\n",
        "assert np.all(test_result_30[0] == [4, 2, 0, 2, 3, 1]) and np.all(\n",
        "    test_result_30[1] == [3, 2, 0, 1, 3, 3]\n",
        "), \"For percentile 30 you should only select states/actions from two first\"\n",
        "assert np.all(test_result_90[0] == [3, 1]) and np.all(\n",
        "    test_result_90[1] == [3, 3]\n",
        "), \"For percentile 90 you should only select states/actions from one game\"\n",
        "assert np.all(test_result_100[0] == [3, 1]) and np.all(\n",
        "    test_result_100[1] == [3, 3]\n",
        "), \"Please make sure you use >=, not >. Also double-check how you compute percentile.\"\n",
        "\n",
        "print(\"Ok!\")\n"
      ]
    },
    {
      "cell_type": "code",
      "execution_count": null,
      "metadata": {
        "id": "wYLBHFFwG35N"
      },
      "outputs": [],
      "source": [
        "def get_new_policy(elite_states, elite_actions):\n",
        "    \"\"\"\n",
        "    Given a list of elite states/actions from select_elites,\n",
        "    return a new policy where each action probability is proportional to\n",
        "\n",
        "        policy[s_i,a_i] ~ #[occurrences of s_i and a_i in elite states/actions]\n",
        "\n",
        "    Don't forget to normalize the policy to get valid probabilities and handle the 0/0 case.\n",
        "    For states that you never visited, use a uniform distribution (1/n_actions for all states).\n",
        "\n",
        "    :param elite_states: 1D list of states from elite sessions\n",
        "    :param elite_actions: 1D list of actions from elite sessions\n",
        "\n",
        "    \"\"\"\n",
        "\n",
        "    new_policy = np.zeros([n_states, n_actions])\n",
        "\n",
        "    <YOUR CODE: set probabilities for actions given elite states & actions>\n",
        "    # Don't forget to set 1/n_actions for all actions in unvisited states.\n",
        "\n",
        "    return new_policy\n"
      ]
    },
    {
      "cell_type": "code",
      "execution_count": null,
      "metadata": {
        "id": "I1VbNcpoG35O"
      },
      "outputs": [],
      "source": [
        "elite_states = [1, 2, 3, 4, 2, 0, 2, 3, 1]\n",
        "elite_actions = [0, 2, 4, 3, 2, 0, 1, 3, 3]\n",
        "\n",
        "new_policy = get_new_policy(elite_states, elite_actions)\n",
        "\n",
        "assert np.isfinite(\n",
        "    new_policy\n",
        ").all(), \"Your new policy contains NaNs or +-inf. Make sure you don't divide by zero.\"\n",
        "assert np.all(\n",
        "    new_policy >= 0\n",
        "), \"Your new policy can't have negative action probabilities\"\n",
        "assert np.allclose(\n",
        "    new_policy.sum(axis=-1), 1\n",
        "), \"Your new policy should be a valid probability distribution over actions\"\n",
        "\n",
        "reference_answer = np.array(\n",
        "    [\n",
        "        [1.0, 0.0, 0.0, 0.0, 0.0],\n",
        "        [0.5, 0.0, 0.0, 0.5, 0.0],\n",
        "        [0.0, 0.33333333, 0.66666667, 0.0, 0.0],\n",
        "        [0.0, 0.0, 0.0, 0.5, 0.5],\n",
        "    ]\n",
        ")\n",
        "assert np.allclose(new_policy[:4, :5], reference_answer)\n",
        "\n",
        "print(\"Ok!\")\n"
      ]
    },
    {
      "cell_type": "markdown",
      "metadata": {
        "id": "WVvZq1fSG35O"
      },
      "source": [
        "# Training loop\n",
        "Generate sessions, select N best and fit to those."
      ]
    },
    {
      "cell_type": "code",
      "execution_count": null,
      "metadata": {
        "id": "3CmH7Aj4G35O"
      },
      "outputs": [],
      "source": [
        "from IPython.display import clear_output\n",
        "\n",
        "\n",
        "def show_progress(rewards_batch, log, percentile, reward_range=[-990, +10]):\n",
        "    \"\"\"\n",
        "    A convenience function that displays training progress.\n",
        "    No cool math here, just charts.\n",
        "    \"\"\"\n",
        "\n",
        "    mean_reward = np.mean(rewards_batch)\n",
        "    threshold = np.percentile(rewards_batch, percentile)\n",
        "    log.append([mean_reward, threshold])\n",
        "\n",
        "    plt.figure(figsize=[8, 4])\n",
        "    plt.subplot(1, 2, 1)\n",
        "    plt.plot(list(zip(*log))[0], label=\"Mean rewards\")\n",
        "    plt.plot(list(zip(*log))[1], label=\"Reward thresholds\")\n",
        "    plt.legend()\n",
        "    plt.grid()\n",
        "\n",
        "    plt.subplot(1, 2, 2)\n",
        "    plt.hist(rewards_batch, range=reward_range)\n",
        "    plt.vlines(\n",
        "        [np.percentile(rewards_batch, percentile)],\n",
        "        [0],\n",
        "        [100],\n",
        "        label=\"percentile\",\n",
        "        color=\"red\",\n",
        "    )\n",
        "    plt.legend()\n",
        "    plt.grid()\n",
        "    clear_output(True)\n",
        "    print(\"mean reward = %.3f, threshold=%.3f\" % (mean_reward, threshold))\n",
        "    plt.show()\n"
      ]
    },
    {
      "cell_type": "code",
      "execution_count": null,
      "metadata": {
        "id": "tz0Yd964G35O"
      },
      "outputs": [],
      "source": [
        "# reset policy just in case\n",
        "policy = initialize_policy(n_states, n_actions)\n"
      ]
    },
    {
      "cell_type": "code",
      "execution_count": null,
      "metadata": {
        "id": "-cNq5hndG35O"
      },
      "outputs": [],
      "source": [
        "n_sessions = 250  # sample this many sessions\n",
        "percentile = 50  # discard this percentage of sessions with lowest rewards\n",
        "learning_rate = 0.5  # how quickly the policy is updated, on a scale from 0 to 1\n",
        "\n",
        "log = []\n",
        "\n",
        "for i in range(100):\n",
        "    %time sessions = [ <YOUR CODE: generate a list of n_sessions new sessions> ]\n",
        "\n",
        "    states_batch, actions_batch, rewards_batch = zip(*sessions)\n",
        "\n",
        "    elite_states, elite_actions = <YOUR CODE: select elite states & actions>\n",
        "\n",
        "    new_policy = <YOUR CODE: compute new policy>\n",
        "\n",
        "    policy = learning_rate * new_policy + (1 - learning_rate) * policy\n",
        "\n",
        "    # display results on chart\n",
        "    show_progress(rewards_batch, log, percentile)\n"
      ]
    },
    {
      "cell_type": "markdown",
      "metadata": {
        "id": "K5LIoVTuG35O"
      },
      "source": [
        "### Reflecting on results\n",
        "\n",
        "You may have noticed that the taxi problem quickly converges from less than -1000 to a near-optimal score and then descends back into -50/-100. This is in part because the environment has some innate randomness. Namely, the starting points of passenger/driver change from episode to episode.\n",
        "\n",
        "In case CEM failed to learn how to win from one distinct starting point, it will simply discard it because no sessions from that starting point will make it into the \"elites\".\n",
        "\n",
        "To mitigate that problem, you can either reduce the threshold for elite sessions (duct tape way) or change the way you evaluate strategy (theoretically correct way). For each starting state, you can sample an action randomly, and then evaluate this action by running _several_ games starting from it and averaging the total reward. Choosing elite sessions with this kind of sampling (where each session's reward is counted as the average of the rewards of all sessions with the same starting state and action) should improve the performance of your policy."
      ]
    },
    {
      "cell_type": "markdown",
      "metadata": {
        "id": "ubIHBgQ-G35O"
      },
      "source": [
        "\n",
        "### You're not done yet!\n",
        "\n",
        "Go to [`./deep_crossentropy_method.ipynb`](./deep_crossentropy_method.ipynb) for a more serious task"
      ]
    }
  ],
  "metadata": {
    "colab": {
      "provenance": []
    },
    "kernelspec": {
      "display_name": "Python 3",
      "name": "python3"
    },
    "language_info": {
      "name": "python"
    }
  },
  "nbformat": 4,
  "nbformat_minor": 0
>>>>>>> 240c989fb1cca52effc289c4033438fa67af1e20
}
